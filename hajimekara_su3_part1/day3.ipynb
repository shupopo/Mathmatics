{
 "cells": [
  {
   "cell_type": "code",
   "execution_count": 8,
   "metadata": {},
   "outputs": [],
   "source": [
    "import sympy\n",
    "I = sympy.S.ImaginaryUnit\n",
    "sympy.init_printing()"
   ]
  },
  {
   "cell_type": "markdown",
   "metadata": {},
   "source": [
    "## p. 38"
   ]
  },
  {
   "cell_type": "markdown",
   "metadata": {},
   "source": [
    "(1)"
   ]
  },
  {
   "cell_type": "markdown",
   "metadata": {},
   "source": [
    "$|z-1|=|z-i|$"
   ]
  },
  {
   "cell_type": "markdown",
   "metadata": {},
   "source": [
    "$(z-1)^2=(z-i)^2$"
   ]
  },
  {
   "cell_type": "code",
   "execution_count": 10,
   "metadata": {},
   "outputs": [
    {
     "data": {
      "image/png": "[encoded data removed]",
      "text/latex": [
       "$$- 2 z + 2 i z + 2$$"
      ],
      "text/plain": [
       "-2⋅z + 2⋅ⅈ⋅z + 2"
      ]
     },
     "execution_count": 10,
     "metadata": {},
     "output_type": "execute_result"
    }
   ],
   "source": [
    "z = sympy.Symbol('z')\n",
    "formula = (z-1)**2-(z-I)**2\n",
    "sympy.expand(formula).collect(I)"
   ]
  },
  {
   "cell_type": "markdown",
   "metadata": {},
   "source": [
    "$- 2 z + 2 i z + 2 = 0$\n",
    "\n",
    "let $z = a+bi$"
   ]
  },
  {
   "cell_type": "code",
   "execution_count": 14,
   "metadata": {},
   "outputs": [
    {
     "data": {
      "image/png": "[encoded data removed]",
      "text/latex": [
       "$$- 2 x - 2 y + i \\left(2 x - 2 y\\right) + 2$$"
      ],
      "text/plain": [
       "-2⋅x - 2⋅y + ⅈ⋅(2⋅x - 2⋅y) + 2"
      ]
     },
     "execution_count": 14,
     "metadata": {},
     "output_type": "execute_result"
    }
   ],
   "source": [
    "x,y = sympy.symbols(\"x y\")\n",
    "z = x+y*I\n",
    "formula = (z-1)**2-(z-I)**2\n",
    "sympy.expand(formula).collect(I)"
   ]
  },
  {
   "cell_type": "markdown",
   "metadata": {},
   "source": [
    "上記解法は失敗している・・・  \n",
    "↓やり直し"
   ]
  },
  {
   "cell_type": "markdown",
   "metadata": {},
   "source": [
    "$|x+iy-1|=|x+iy-i|$"
   ]
  },
  {
   "cell_type": "markdown",
   "metadata": {},
   "source": [
    "$\\sqrt{(x-1)^2+y^2}=\\sqrt{x^2+(y-1)^2}$"
   ]
  },
  {
   "cell_type": "markdown",
   "metadata": {},
   "source": [
    "$(x-1)^2+y^2 = x^2+(y-1)^2$\n",
    "\n",
    "$ -2x = -2y$\n",
    "\n",
    "$x = y$\n",
    "↑は、$z = x+iy$をみたすx,yの条件（集合）であって、zの軌跡ではないのでは？？？  \n",
    "$x = y$は、実数平面上の点の集合をあらわすが、zの軌跡は、複素数平面上になければいけないのでは？？？  \n",
    "$x = y$はあくまで、複素数平面上のzの軌跡に対応した、実数平面上の点でしかないような気がする。\n",
    "複素数平面でのｚの軌跡は  \n",
    "$z = x+iy$かつ$x = y$"
   ]
  },
  {
   "cell_type": "markdown",
   "metadata": {},
   "source": [
    "(2)"
   ]
  },
  {
   "cell_type": "markdown",
   "metadata": {},
   "source": [
    "$|z-1|=\\sqrt{2}|z-i|$  \n",
    "$|x+iy-1|=\\sqrt{2}|x+iy-i|$"
   ]
  },
  {
   "cell_type": "markdown",
   "metadata": {},
   "source": [
    "$\\sqrt{(x-1)^2+y^2} = \\sqrt{2}\\sqrt{x^2+(y-1)^2}$"
   ]
  },
  {
   "cell_type": "markdown",
   "metadata": {},
   "source": [
    "$(x-1)^2+y^2 = 2x^2+2(y-1)^2$"
   ]
  },
  {
   "cell_type": "markdown",
   "metadata": {},
   "source": [
    "$x^2+2x-1+y^2-4y+2 = 0$"
   ]
  },
  {
   "cell_type": "markdown",
   "metadata": {},
   "source": [
    "$(x+1)^2-2+(y-2)^2-2 =0 $  \n",
    "$(x+1)^2+(y-2)^2 = 4$"
   ]
  },
  {
   "cell_type": "markdown",
   "metadata": {},
   "source": [
    "複素数平面でのzの軌跡は、  \n",
    "$|z-(-1+2i)|=2$"
   ]
  },
  {
   "cell_type": "markdown",
   "metadata": {},
   "source": [
    "## p. 42 Practice 12"
   ]
  },
  {
   "cell_type": "markdown",
   "metadata": {},
   "source": [
    "(1)"
   ]
  },
  {
   "cell_type": "markdown",
   "metadata": {},
   "source": [
    "$z\\overline{z}-(1-i)z-(1+i)\\overline{z}=0$  \n",
    "let $\\alpha = 1+i$"
   ]
  },
  {
   "cell_type": "markdown",
   "metadata": {},
   "source": [
    "$z(\\overline{z}-\\overline{\\alpha})-\\alpha\\overline{z}=0$"
   ]
  },
  {
   "cell_type": "markdown",
   "metadata": {},
   "source": [
    "$z(\\overline{z}-\\overline{\\alpha})-\\alpha\\overline{z}+\\alpha\\overline{\\alpha}=\\alpha\\overline{\\alpha}$  \n",
    "$z(\\overline{z}-\\overline{\\alpha})-\\alpha(\\overline{z}-\\overline{\\alpha})=\\alpha\\overline{\\alpha}$"
   ]
  },
  {
   "cell_type": "markdown",
   "metadata": {},
   "source": [
    "$(z-\\alpha)(\\overline{z}-\\overline{\\alpha})=\\alpha\\overline{\\alpha}$  \n",
    "$|z-\\alpha|^2 = |\\alpha|^2$  \n",
    "$|z-(1+i)|=\\sqrt{2}$"
   ]
  },
  {
   "cell_type": "markdown",
   "metadata": {},
   "source": [
    "(2)"
   ]
  },
  {
   "cell_type": "markdown",
   "metadata": {},
   "source": [
    "$z\\overline{z}+iz-i\\overline{z}-3=0$"
   ]
  },
  {
   "cell_type": "markdown",
   "metadata": {},
   "source": [
    "let $\\alpha = 0+i$"
   ]
  },
  {
   "cell_type": "markdown",
   "metadata": {},
   "source": [
    "$z\\overline{z}+\\alpha z+\\overline{\\alpha}\\overline{z}+\\alpha\\overline{\\alpha}-4= 0$"
   ]
  },
  {
   "cell_type": "markdown",
   "metadata": {},
   "source": [
    "$z\\overline{z}-\\overline{\\alpha} z-\\alpha\\overline{z}+\\alpha\\overline{\\alpha}-4 = 0$"
   ]
  },
  {
   "cell_type": "markdown",
   "metadata": {},
   "source": [
    "$z(\\overline{z}-\\overline{\\alpha})-\\alpha(\\overline{z}-\\overline{\\alpha})=4$"
   ]
  },
  {
   "cell_type": "markdown",
   "metadata": {},
   "source": [
    "$(z-\\alpha)(\\overline{z}-\\overline{\\alpha})=4$"
   ]
  },
  {
   "cell_type": "markdown",
   "metadata": {},
   "source": [
    "$|z-i|=2$"
   ]
  },
  {
   "cell_type": "code",
   "execution_count": null,
   "metadata": {},
   "outputs": [],
   "source": []
  }
 ],
 "metadata": {
  "kernelspec": {
   "display_name": "Python 3",
   "language": "python",
   "name": "python3"
  },
  "language_info": {
   "codemirror_mode": {
    "name": "ipython",
    "version": 3
   },
   "file_extension": ".py",
   "mimetype": "text/x-python",
   "name": "python",
   "nbconvert_exporter": "python",
   "pygments_lexer": "ipython3",
   "version": "3.6.8"
  }
 },
 "nbformat": 4,
 "nbformat_minor": 2
}
