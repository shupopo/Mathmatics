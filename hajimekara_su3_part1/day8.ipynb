{
 "cells": [
  {
   "cell_type": "markdown",
   "metadata": {},
   "source": [
    "## p. 113 Practice 31\n",
    "$y = \\dfrac{x+1+2x}{x+1}$  \n",
    "$y = \\dfrac{2x}{x+1}+1$"
   ]
  },
  {
   "cell_type": "markdown",
   "metadata": {},
   "source": [
    "$y = 3+ \\dfrac{-2}{x+1}$ "
   ]
  },
  {
   "cell_type": "markdown",
   "metadata": {},
   "source": [
    "ア：-2  \n",
    "イ：-1  \n",
    "ウ：3  "
   ]
  },
  {
   "cell_type": "markdown",
   "metadata": {},
   "source": [
    "## p. 117 Practice 32"
   ]
  },
  {
   "cell_type": "code",
   "execution_count": 7,
   "metadata": {},
   "outputs": [
    {
     "name": "stderr",
     "output_type": "stream",
     "text": [
      "/Users/hiroshimashuuhei/.pyenv/versions/miniconda3-4.3.30/lib/python3.6/site-packages/ipykernel_launcher.py:9: RuntimeWarning: invalid value encountered in sqrt\n",
      "  if __name__ == '__main__':\n"
     ]
    },
    {
     "data": {
      "image/png": "[encoded data removed]",
      "text/plain": [
       "<Figure size 432x288 with 1 Axes>"
      ]
     },
     "metadata": {
      "needs_background": "light"
     },
     "output_type": "display_data"
    }
   ],
   "source": [
    "# reference https://qiita.com/Cesaroshun/items/c0263ffe6062d88d6575\n",
    "import matplotlib.pyplot as plt\n",
    "import numpy as np\n",
    "import math\n",
    "\n",
    "# -10 < x < 10 \n",
    "x = np.arange(-10, 10, 0.1)\n",
    "\n",
    "y = -1*(2*x-4)**(1/2)+1\n",
    "\n",
    "# /*グラフへのプロット実行*/\n",
    "plt.plot(x, y)\n",
    "plt.show()"
   ]
  },
  {
   "cell_type": "markdown",
   "metadata": {},
   "source": [
    "## p. 120 Practice 33"
   ]
  },
  {
   "cell_type": "code",
   "execution_count": 12,
   "metadata": {},
   "outputs": [
    {
     "name": "stdout",
     "output_type": "stream",
     "text": [
      "701\n",
      "701\n"
     ]
    }
   ],
   "source": [
    "#(1)\n",
    "x = 5\n",
    "eq1 = x**4+3*x**2+1\n",
    "print(eq1)\n",
    "x = -x\n",
    "eq2= x**4+3*x**2+1\n",
    "print(eq2)\n",
    "# Ans 偶関数"
   ]
  },
  {
   "cell_type": "code",
   "execution_count": 18,
   "metadata": {},
   "outputs": [
    {
     "name": "stdout",
     "output_type": "stream",
     "text": [
      "5619488\n",
      "5619488\n"
     ]
    }
   ],
   "source": [
    "# (2)\n",
    "x = 112\n",
    "eq1 = 4*x**3-2*x\n",
    "print(eq1)\n",
    "x = -x\n",
    "eq2 = -(4*x**3-2*x)\n",
    "print(eq2)\n",
    "# Ans 奇関数"
   ]
  },
  {
   "cell_type": "code",
   "execution_count": 22,
   "metadata": {},
   "outputs": [
    {
     "name": "stdout",
     "output_type": "stream",
     "text": [
      "5\n",
      "-3\n"
     ]
    }
   ],
   "source": [
    "# (3)\n",
    "x = -1\n",
    "y1 = x**4-4*x\n",
    "print(y1)\n",
    "x = 1\n",
    "y2 = (x**4-4*x)\n",
    "print(y2)\n",
    "# ans どちらでもない？"
   ]
  },
  {
   "cell_type": "code",
   "execution_count": 23,
   "metadata": {},
   "outputs": [],
   "source": [
    "import sympy as sy\n",
    "sy.init_printing()\n"
   ]
  },
  {
   "cell_type": "code",
   "execution_count": 28,
   "metadata": {},
   "outputs": [
    {
     "data": {
      "image/png": "[encoded data removed]",
      "text/latex": [
       "$$\\frac{1}{x^{2} + 1}$$"
      ],
      "text/plain": [
       "  1   \n",
       "──────\n",
       " 2    \n",
       "x  + 1"
      ]
     },
     "metadata": {},
     "output_type": "display_data"
    },
    {
     "data": {
      "image/png": "[encoded data removed]",
      "text/latex": [
       "$$\\frac{1}{x^{2} + 1}$$"
      ],
      "text/plain": [
       "  1   \n",
       "──────\n",
       " 2    \n",
       "x  + 1"
      ]
     },
     "metadata": {},
     "output_type": "display_data"
    }
   ],
   "source": [
    "# (4)\n",
    "x,y = sy.symbols(\"x y\")\n",
    "y = 1/((-x)**2+1)\n",
    "display(y)\n",
    "y = 1/((x)**2+1)\n",
    "display(y)\n",
    "# ans even function"
   ]
  },
  {
   "cell_type": "code",
   "execution_count": 31,
   "metadata": {},
   "outputs": [
    {
     "name": "stdout",
     "output_type": "stream",
     "text": [
      "-sin(2*x)\n",
      "sin(2*x)\n",
      "-sin(2*x)\n"
     ]
    }
   ],
   "source": [
    "# (5)\n",
    "y = sy.sin(2*(-x))\n",
    "print(y)\n",
    "y = sy.sin(2*(x))\n",
    "print(y)\n",
    "y = -sy.sin(2*(x))\n",
    "print(y)\n",
    "# ans odd function"
   ]
  },
  {
   "cell_type": "code",
   "execution_count": 32,
   "metadata": {},
   "outputs": [
    {
     "name": "stdout",
     "output_type": "stream",
     "text": [
      "-tan(x)\n",
      "tan(x)\n",
      "-tan(x)\n"
     ]
    }
   ],
   "source": [
    "# (6)\n",
    "y = sy.tan(-x)\n",
    "print(y)\n",
    "y = sy.tan(x)\n",
    "print(y)\n",
    "y = -sy.tan(x)\n",
    "print(y)"
   ]
  },
  {
   "cell_type": "code",
   "execution_count": 33,
   "metadata": {},
   "outputs": [],
   "source": [
    "# odd function"
   ]
  },
  {
   "cell_type": "markdown",
   "metadata": {},
   "source": [
    "## p. 122 Practice 34"
   ]
  },
  {
   "cell_type": "code",
   "execution_count": 68,
   "metadata": {},
   "outputs": [
    {
     "name": "stdout",
     "output_type": "stream",
     "text": [
      "x**2*cos(x)\n",
      "x**2*cos(x)\n",
      "-x**2*cos(x)\n",
      "even function\n"
     ]
    }
   ],
   "source": [
    "# (1)\n",
    "def odd_or_even(eq):\n",
    "    x = sy.Symbol(\"x\")\n",
    "    x = -x\n",
    "    y1 = eq\n",
    "    print(y1)\n",
    "    x = -x\n",
    "    y2 = eq\n",
    "    print(y2)\n",
    "    y3 = -eq\n",
    "    print(y3)\n",
    "    if y1 == y2:\n",
    "        print(\"even function\")\n",
    "    elif y1 == y3:\n",
    "        print(\"odd function\")\n",
    "    else:\n",
    "        print(\"neither\")\n",
    "\n",
    "eq = x**2*sy.cos(x)\n",
    "odd_or_even(eq)"
   ]
  },
  {
   "cell_type": "code",
   "execution_count": 71,
   "metadata": {},
   "outputs": [
    {
     "name": "stdout",
     "output_type": "stream",
     "text": [
      "x**2*sin(x)\n",
      "x**2*sin(x)\n",
      "-x**2*sin(x)\n",
      "even function\n"
     ]
    }
   ],
   "source": [
    "# (2)\n",
    "eq = x**2*sy.sin(x)\n",
    "odd_or_even(x**2*sy.sin(x))"
   ]
  },
  {
   "cell_type": "code",
   "execution_count": 73,
   "metadata": {},
   "outputs": [
    {
     "name": "stdout",
     "output_type": "stream",
     "text": [
      "-x**2*sin(x)\n",
      "x**2*sin(x)\n",
      "-x**2*sin(x)\n"
     ]
    }
   ],
   "source": [
    "x = -x\n",
    "y1 = x**2*sy.sin(x)\n",
    "print(y1)\n",
    "x = -x\n",
    "y2 = x**2*sy.sin(x)\n",
    "print(y2)\n",
    "y3 = -(x**2*sy.sin(x))\n",
    "print(y3)"
   ]
  },
  {
   "cell_type": "code",
   "execution_count": 74,
   "metadata": {},
   "outputs": [],
   "source": [
    "# odd function"
   ]
  },
  {
   "cell_type": "code",
   "execution_count": 75,
   "metadata": {},
   "outputs": [
    {
     "name": "stdout",
     "output_type": "stream",
     "text": [
      "x*tan(x)\n",
      "x*tan(x)\n",
      "-x*tan(x)\n"
     ]
    }
   ],
   "source": [
    "# (4)\n",
    "x = -x\n",
    "y1 = x*sy.tan(x)\n",
    "print(y1)\n",
    "x = -x\n",
    "y2 = x*sy.tan(x)\n",
    "print(y2)\n",
    "y3 = -(x*sy.tan(x))\n",
    "print(y3)"
   ]
  },
  {
   "cell_type": "code",
   "execution_count": 76,
   "metadata": {},
   "outputs": [],
   "source": [
    "# even function"
   ]
  },
  {
   "cell_type": "markdown",
   "metadata": {},
   "source": [
    "even function  \n",
    "$f(-x) = f(x)$  \n",
    "odd function  \n",
    "$f(x) = -f(x)$"
   ]
  },
  {
   "cell_type": "markdown",
   "metadata": {},
   "source": [
    "odd * even = odd等の証明  \n",
    "リファレンス  \n",
    "https://mathtrain.jp/evenoddfunction\n"
   ]
  },
  {
   "cell_type": "markdown",
   "metadata": {},
   "source": [
    "$f(-x) + g(-x) = f(x)+g(x)$"
   ]
  },
  {
   "cell_type": "markdown",
   "metadata": {},
   "source": [
    "$f(-x)+g(-x) = -f(x)+-g(x) = -(f(x)+g(x))$  \n"
   ]
  },
  {
   "cell_type": "markdown",
   "metadata": {},
   "source": [
    "$f(-x)\\times g(-x) = f(x)g(x)$"
   ]
  },
  {
   "cell_type": "markdown",
   "metadata": {},
   "source": [
    "$f(-x)\\times g(-x) = -f(x)g(x)$"
   ]
  },
  {
   "cell_type": "code",
   "execution_count": null,
   "metadata": {},
   "outputs": [],
   "source": []
  }
 ],
 "metadata": {
  "kernelspec": {
   "display_name": "Python 3",
   "language": "python",
   "name": "python3"
  },
  "language_info": {
   "codemirror_mode": {
    "name": "ipython",
    "version": 3
   },
   "file_extension": ".py",
   "mimetype": "text/x-python",
   "name": "python",
   "nbconvert_exporter": "python",
   "pygments_lexer": "ipython3",
   "version": "3.6.8"
  }
 },
 "nbformat": 4,
 "nbformat_minor": 2
}
